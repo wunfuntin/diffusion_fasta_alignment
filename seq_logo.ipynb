{
 "cells": [
  {
   "cell_type": "code",
   "execution_count": null,
   "id": "initial_id",
   "metadata": {
    "collapsed": true,
    "is_executing": true
   },
   "outputs": [],
   "source": [
    "import numpy as np\n",
    "import pandas as pd\n",
    "import seqlogo"
   ]
  },
  {
   "cell_type": "code",
   "execution_count": 2,
   "outputs": [],
   "source": [
    "np.random.seed(42)"
   ],
   "metadata": {
    "collapsed": false,
    "ExecuteTime": {
     "end_time": "2023-10-20T23:36:52.276876Z",
     "start_time": "2023-10-20T23:36:52.272172Z"
    }
   },
   "id": "dcbcce233ebce82b"
  },
  {
   "cell_type": "code",
   "execution_count": 3,
   "outputs": [
    {
     "data": {
      "text/plain": "          A         C         G         T\n0  0.082197  0.527252  0.230641  0.159911\n1  0.070375  0.070363  0.024826  0.834435\n2  0.161962  0.216972  0.003665  0.617401\n3  0.735638  0.098290  0.082638  0.083434\n4  0.179898  0.368931  0.280463  0.170708\n5  0.498510  0.079138  0.182004  0.240349",
      "text/html": "<div>\n<style scoped>\n    .dataframe tbody tr th:only-of-type {\n        vertical-align: middle;\n    }\n\n    .dataframe tbody tr th {\n        vertical-align: top;\n    }\n\n    .dataframe thead th {\n        text-align: right;\n    }\n</style>\n<table border=\"1\" class=\"dataframe\">\n  <thead>\n    <tr style=\"text-align: right;\">\n      <th></th>\n      <th>A</th>\n      <th>C</th>\n      <th>G</th>\n      <th>T</th>\n    </tr>\n  </thead>\n  <tbody>\n    <tr>\n      <th>0</th>\n      <td>0.082197</td>\n      <td>0.527252</td>\n      <td>0.230641</td>\n      <td>0.159911</td>\n    </tr>\n    <tr>\n      <th>1</th>\n      <td>0.070375</td>\n      <td>0.070363</td>\n      <td>0.024826</td>\n      <td>0.834435</td>\n    </tr>\n    <tr>\n      <th>2</th>\n      <td>0.161962</td>\n      <td>0.216972</td>\n      <td>0.003665</td>\n      <td>0.617401</td>\n    </tr>\n    <tr>\n      <th>3</th>\n      <td>0.735638</td>\n      <td>0.098290</td>\n      <td>0.082638</td>\n      <td>0.083434</td>\n    </tr>\n    <tr>\n      <th>4</th>\n      <td>0.179898</td>\n      <td>0.368931</td>\n      <td>0.280463</td>\n      <td>0.170708</td>\n    </tr>\n    <tr>\n      <th>5</th>\n      <td>0.498510</td>\n      <td>0.079138</td>\n      <td>0.182004</td>\n      <td>0.240349</td>\n    </tr>\n  </tbody>\n</table>\n</div>"
     },
     "metadata": {},
     "output_type": "display_data"
    },
    {
     "data": {
      "text/plain": ""
     },
     "execution_count": 3,
     "metadata": {},
     "output_type": "execute_result"
    }
   ],
   "source": [
    "random_ppm = np.random.dirichlet(np.ones(4), size=6)\n",
    "ppm = seqlogo.Ppm(random_ppm)\n",
    "ppm"
   ],
   "metadata": {
    "collapsed": false,
    "ExecuteTime": {
     "end_time": "2023-10-20T23:38:01.262292Z",
     "start_time": "2023-10-20T23:38:00.335457Z"
    }
   },
   "id": "c1ac8f619c6e388f"
  },
  {
   "cell_type": "code",
   "execution_count": 4,
   "outputs": [
    {
     "ename": "OSError",
     "evalue": "Scalable Vector Graphics (SVG) format requires the program'pdf2svg'.",
     "output_type": "error",
     "traceback": [
      "\u001B[0;31m---------------------------------------------------------------------------\u001B[0m",
      "\u001B[0;31mOSError\u001B[0m                                   Traceback (most recent call last)",
      "Cell \u001B[0;32mIn[4], line 3\u001B[0m\n\u001B[1;32m      1\u001B[0m random_ppm \u001B[38;5;241m=\u001B[39m np\u001B[38;5;241m.\u001B[39mrandom\u001B[38;5;241m.\u001B[39mdirichlet(np\u001B[38;5;241m.\u001B[39mones(\u001B[38;5;241m4\u001B[39m), size\u001B[38;5;241m=\u001B[39m\u001B[38;5;241m6\u001B[39m)\n\u001B[1;32m      2\u001B[0m ppm \u001B[38;5;241m=\u001B[39m seqlogo\u001B[38;5;241m.\u001B[39mPpm(random_ppm)\n\u001B[0;32m----> 3\u001B[0m \u001B[43mseqlogo\u001B[49m\u001B[38;5;241;43m.\u001B[39;49m\u001B[43mseqlogo\u001B[49m\u001B[43m(\u001B[49m\u001B[43mppm\u001B[49m\u001B[43m,\u001B[49m\u001B[43m \u001B[49m\u001B[43mic_scale\u001B[49m\u001B[38;5;241;43m=\u001B[39;49m\u001B[38;5;28;43;01mFalse\u001B[39;49;00m\u001B[43m,\u001B[49m\u001B[43m \u001B[49m\u001B[38;5;28;43mformat\u001B[39;49m\u001B[38;5;241;43m=\u001B[39;49m\u001B[38;5;124;43m'\u001B[39;49m\u001B[38;5;124;43msvg\u001B[39;49m\u001B[38;5;124;43m'\u001B[39;49m\u001B[43m,\u001B[49m\u001B[43m \u001B[49m\u001B[43msize\u001B[49m\u001B[38;5;241;43m=\u001B[39;49m\u001B[38;5;124;43m'\u001B[39;49m\u001B[38;5;124;43mmedium\u001B[39;49m\u001B[38;5;124;43m'\u001B[39;49m\u001B[43m)\u001B[49m\n",
      "File \u001B[0;32m~/Documents/TT_lab/python/rfdiffusion_fasta_seq_align/venv/lib/python3.11/site-packages/seqlogo/seqlogo.py:91\u001B[0m, in \u001B[0;36mseqlogo\u001B[0;34m(pm, ic_scale, color_scheme, size, format, filename, **kwargs)\u001B[0m\n\u001B[1;32m     88\u001B[0m \u001B[38;5;66;03m#Initialize the output format\u001B[39;00m\n\u001B[1;32m     89\u001B[0m logo_format \u001B[38;5;241m=\u001B[39m wl\u001B[38;5;241m.\u001B[39mLogoFormat(pm, options)\n\u001B[0;32m---> 91\u001B[0m out \u001B[38;5;241m=\u001B[39m \u001B[43mout_format\u001B[49m\u001B[43m(\u001B[49m\u001B[43mpm\u001B[49m\u001B[43m,\u001B[49m\u001B[43m \u001B[49m\u001B[43mlogo_format\u001B[49m\u001B[43m)\u001B[49m\n\u001B[1;32m     93\u001B[0m \u001B[38;5;66;03m# Create the file if the user supplied an filename\u001B[39;00m\n\u001B[1;32m     94\u001B[0m \u001B[38;5;28;01mif\u001B[39;00m filename:\n",
      "File \u001B[0;32m~/Documents/TT_lab/python/rfdiffusion_fasta_seq_align/venv/lib/python3.11/site-packages/weblogo/logo_formatter.py:78\u001B[0m, in \u001B[0;36msvg_formatter\u001B[0;34m(logodata, logoformat)\u001B[0m\n\u001B[1;32m     76\u001B[0m command \u001B[38;5;241m=\u001B[39m shutil\u001B[38;5;241m.\u001B[39mwhich(\u001B[38;5;124m\"\u001B[39m\u001B[38;5;124mpdf2svg\u001B[39m\u001B[38;5;124m\"\u001B[39m)\n\u001B[1;32m     77\u001B[0m \u001B[38;5;28;01mif\u001B[39;00m command \u001B[38;5;129;01mis\u001B[39;00m \u001B[38;5;28;01mNone\u001B[39;00m:\n\u001B[0;32m---> 78\u001B[0m     \u001B[38;5;28;01mraise\u001B[39;00m \u001B[38;5;167;01mEnvironmentError\u001B[39;00m(\n\u001B[1;32m     79\u001B[0m         \u001B[38;5;124m\"\u001B[39m\u001B[38;5;124mScalable Vector Graphics (SVG) format requires the program\u001B[39m\u001B[38;5;124m\"\u001B[39m \u001B[38;5;124m\"\u001B[39m\u001B[38;5;124m'\u001B[39m\u001B[38;5;124mpdf2svg\u001B[39m\u001B[38;5;124m'\u001B[39m\u001B[38;5;124m.\u001B[39m\u001B[38;5;124m\"\u001B[39m\n\u001B[1;32m     80\u001B[0m     )  \u001B[38;5;66;03m# pragma: no cover\u001B[39;00m\n\u001B[1;32m     82\u001B[0m \u001B[38;5;28;01mimport\u001B[39;00m \u001B[38;5;21;01mtempfile\u001B[39;00m\n\u001B[1;32m     84\u001B[0m fpdfi, fname_pdf \u001B[38;5;241m=\u001B[39m tempfile\u001B[38;5;241m.\u001B[39mmkstemp(suffix\u001B[38;5;241m=\u001B[39m\u001B[38;5;124m\"\u001B[39m\u001B[38;5;124m.pdf\u001B[39m\u001B[38;5;124m\"\u001B[39m)\n",
      "\u001B[0;31mOSError\u001B[0m: Scalable Vector Graphics (SVG) format requires the program'pdf2svg'."
     ]
    }
   ],
   "source": [
    "random_ppm = np.random.dirichlet(np.ones(4), size=6)\n",
    "ppm = seqlogo.Ppm(random_ppm)\n",
    "seqlogo.seqlogo(ppm, ic_scale=False, format='svg', size='medium')"
   ],
   "metadata": {
    "collapsed": false,
    "ExecuteTime": {
     "end_time": "2023-10-20T23:39:44.789377Z",
     "start_time": "2023-10-20T23:39:43.499893Z"
    }
   },
   "id": "941c2e616742fa98"
  },
  {
   "cell_type": "code",
   "execution_count": null,
   "outputs": [],
   "source": [],
   "metadata": {
    "collapsed": false
   },
   "id": "2e802e991ad49551"
  }
 ],
 "metadata": {
  "kernelspec": {
   "display_name": "Python 3",
   "language": "python",
   "name": "python3"
  },
  "language_info": {
   "codemirror_mode": {
    "name": "ipython",
    "version": 2
   },
   "file_extension": ".py",
   "mimetype": "text/x-python",
   "name": "python",
   "nbconvert_exporter": "python",
   "pygments_lexer": "ipython2",
   "version": "2.7.6"
  }
 },
 "nbformat": 4,
 "nbformat_minor": 5
}
