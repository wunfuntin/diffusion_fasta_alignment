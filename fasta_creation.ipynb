{
 "cells": [
  {
   "cell_type": "code",
   "execution_count": 23,
   "id": "initial_id",
   "metadata": {
    "collapsed": true,
    "ExecuteTime": {
     "end_time": "2023-10-19T21:43:42.826519Z",
     "start_time": "2023-10-19T21:43:42.817126Z"
    }
   },
   "outputs": [],
   "source": [
    "import pandas as pd\n",
    "import requests\n",
    "import time\n",
    "import sys\n",
    "from Bio import SeqIO\n",
    "import logomaker\n",
    "from Bio import AlignIO\n",
    "from pymsaviz import MsaViz\n",
    "import plotly.express as px"
   ]
  },
  {
   "cell_type": "code",
   "execution_count": 21,
   "outputs": [],
   "source": [
    "#requests function\n",
    "def get_url(url, **kwargs):\n",
    "    response = requests.get(url, **kwargs)\n",
    "    if not response.ok:\n",
    "        print(response.text)\n",
    "        response.raise_for_status()\n",
    "        sys.exit()\n",
    "\n",
    "    return response\n",
    "\n",
    "#check the status of the alignment job\n",
    "def status_check():\n",
    "    if job_status.text == 'RUNNING' or job_status.text == 'QUEUED':\n",
    "        print(job_status.text)\n",
    "        return True\n",
    "    else:\n",
    "        print('FINISHED')\n",
    "        return False\n",
    "    \n",
    "#show the alignment once job has completed\n",
    "def show_alignment():\n",
    "    query_alignment = get_url(f\"https://www.ebi.ac.uk/Tools/services/rest/clustalo/result/{job_id}/aln-clustal_num\")\n",
    "    print(query_alignment.text)\n",
    "    \n",
    "#turn MSA file into fasta file using BioPython\n",
    "def convert_clustal_to_fasta(input_file, output_file):\n",
    "    #parse the CLUSTAL file and read the alignment\n",
    "    clustal_alignment = AlignIO.read(input_file, \"clustal\")\n",
    "\n",
    "    #write the alignment in FASTA format\n",
    "    with open(output_file, \"w\") as fasta_file:\n",
    "        AlignIO.write(clustal_alignment, fasta_file, \"fasta\")\n",
    "        \n",
    "def fasta_to_df(fasta_file):\n",
    "    \"\"\"\n",
    "    Converts sequences in a .fasta file to a dataframe\n",
    "    where each column is a position in the sequence alignment\n",
    "    and each row is a sequence.\n",
    "    \"\"\"\n",
    "    # Read sequences from fasta\n",
    "    sequences = [str(record.seq) for record in SeqIO.parse(fasta_file, \"fasta\")]\n",
    "    \n",
    "    # Ensure that all sequences are of the same length\n",
    "    assert len(set([len(seq) for seq in sequences])) == 1, \"All sequences must be of the same length!\"\n",
    "    \n",
    "    # Convert list of sequences to dataframe\n",
    "    df = pd.DataFrame([list(seq) for seq in sequences])\n",
    "    \n",
    "    return df"
   ],
   "metadata": {
    "collapsed": false,
    "ExecuteTime": {
     "end_time": "2023-10-19T21:39:33.562251Z",
     "start_time": "2023-10-19T21:39:33.552616Z"
    }
   },
   "id": "e47406665735e3b3"
  },
  {
   "cell_type": "code",
   "execution_count": 3,
   "outputs": [
    {
     "name": "stdout",
     "output_type": "stream",
     "text": [
      "0     TRECIYYNANWELERTNQSGLERCEGEQDKRLHCYVLAKIINGKTE...\n",
      "1     TRECIYYNANWELERTNQSGLERCEGEQDKRLHCFRAYKIINGKPV...\n",
      "2     TRECIYYNANWELERTNQSGLERCEGEQDKRLHCMVLAKLENGEWK...\n",
      "3     TRECIYYNANWELERTNQSGLERCEGEQDKRLHCSVLAKLENGKWE...\n",
      "4     TRECIYYNANWELERTNQSGLERCEGEQDKRLHCYRAWKRENGKDT...\n",
      "                            ...                        \n",
      "59    TRECIYYNANWELERTNQSGLERCEGEQDKRLHCLRAAEIKDGKTT...\n",
      "60    TRECIYYNANWELERTNQSGLERCEGEQDKRLHCIRLSKLENGKVT...\n",
      "61    TRECIYYNANWELERTNQSGLERCEGEQDKRLHCVLLVRNKNGEWT...\n",
      "62    TRECIYYNANWELERTNQSGLERCEGEQDKRLHCTRLVRYENGKWT...\n",
      "63    TRECIYYNANWELERTNQSGLERCEGEQDKRLHCYRLVKYENGVWT...\n",
      "Name: extracted_sequence, Length: 64, dtype: object\n"
     ]
    }
   ],
   "source": [
    "data = pd.read_csv('mpnn_results.csv')\n",
    "data['extracted_sequence'] = data['seq'].apply(lambda x: x.split('/')[-1] if '/' in x else None)\n",
    "print(data['extracted_sequence'])"
   ],
   "metadata": {
    "collapsed": false,
    "ExecuteTime": {
     "end_time": "2023-10-18T18:09:01.494373Z",
     "start_time": "2023-10-18T18:09:01.410038Z"
    }
   },
   "id": "5564761f087ded27"
  },
  {
   "cell_type": "code",
   "execution_count": 4,
   "outputs": [],
   "source": [
    "with open('11_typeII_interface.fasta', 'w') as fasta_file:\n",
    "    for idx, row in data.iterrows():\n",
    "        fasta_file.write('>sequence_{}\\n{}\\n'.format(idx + 1, row['extracted_sequence']))"
   ],
   "metadata": {
    "collapsed": false,
    "ExecuteTime": {
     "end_time": "2023-10-18T18:14:18.165979Z",
     "start_time": "2023-10-18T18:14:18.134502Z"
    }
   },
   "id": "12c9e16c84b14507"
  },
  {
   "cell_type": "code",
   "execution_count": 5,
   "outputs": [
    {
     "name": "stdout",
     "output_type": "stream",
     "text": [
      ">sequence_1\n",
      "TRECIYYNANWELERTNQSGLERCEGEQDKRLHCYVLAKIINGKTEILYRGCVEYNDECYDRQECVSTEKDSKYLFCCCEGNFCNERFTHLPEPG\n",
      ">sequence_2\n",
      "TRECIYYNANWELERTNQSGLERCEGEQDKRLHCFRAYKIINGKPVVVYSGCVEYNDECYDRQECVSTEKNARIKFCCCEGNFCNERFTHLPEPG\n",
      ">sequence_3\n",
      "TRECIYYNANWELERTNQSGLERCEGEQDKRLHCMVLAKLENGEWKVLYRHCTGDNEECYDRQECVFTESGSPYKYCCCEGNFCNERFTHLPEPG\n",
      ">sequence_4\n",
      "TRECIYYNANWELERTNQSGLERCEGEQDKRLHCSVLAKLENGKWEILYRHCTGDNEECYDRQECVSRSSGSPYQYCCCEGNFCNERFTHLPEPG\n",
      ">sequence_5\n",
      "TRECIYYNANWELERTNQSGLERCEGEQDKRLHCYRAWKRENGKDTIVYSGCTEDNDECYDRQECVSTQKGAKILSCCCEGNFCNERFTHLPEPG\n",
      ">sequence_6\n",
      "TRECIYYNANWELERTNQSGLERCEGEQDKRLHCYAAYKLENGKKTVILRGCTTDNDECYDRQECVSTEKGAKILSCCCEGNFCNERFTHLPEPG\n",
      ">sequence_7\n",
      "TRECIYYNANWELERTNQSGLERCEGEQDKRLHCTVLAKVENGKLIRVYSGCTEDLDECYDRQECVATEKGAKYLSCCCEGNFCNERFTHLPEPG\n",
      ">sequence_8\n",
      "TRECIYYNANWELERTNQSGLERCEGEQDKRLHCSVLYKIENGELKVVYRGCTEDLDECYDRQECVGTDRNAPYIFCCCEGNFCNERFTHLPEPG\n",
      ">sequence_9\n",
      "TRECIYYNANWELERTNQSGLERCEGEQDKRLHCGVLVKYENGEWTVLYSGCVGDNEECYDRQECVATESGKEYQYCCCEGNFCNERFTHLPEPG\n",
      ">sequence_10\n",
      "TRECIYYNANWELERTNQSGLERCEGEQDKRLHCGVLVEYSNGQWTILYSGCTTENDECYDRQECVSTEKGKKYSYCCCEGNFCNERFTHLPEPG\n",
      ">sequence_11\n",
      "TRECIYYNANWELERTNQSGLERCEGEQDKRLHCFRAYRIVNGKKEILYSGCVENEDSCYDRQECVDRRKNPEIHYCCCEGNFCNERFTHLPEPG\n",
      ">sequence_12\n",
      "TRECIYYNANWELERTNQSGLERCEGEQDKRLHCFRAYRIENGKVHILYSGCVENEDECYDRQECVDTRKNPEIHYCCCEGNFCNERFTHLPEPG\n",
      ">sequence_13\n",
      "TRECIYYNANWELERTNQSGLERCEGEQDKRLHCLRLVKLENGKWTLLYSGCTTDNEECYDRQECVFTEKGSKYLSCCCEGNFCNERFTHLPEPG\n",
      ">sequence_14\n",
      "TRECIYYNANWELERTNQSGLERCEGEQDKRLHCAVAAKFENGKWTLLYSGCTGDNDECYDRQECVATEKGSKYQYCCCEGNFCNERFTHLPEPG\n",
      ">sequence_15\n",
      "TRECIYYNANWELERTNQSGLERCEGEQDKRLHCARAARLKNGKEEVLYSFCVEDNDECYDRQECVSTEKGSEILYCCCEGNFCNERFTHLPEPG\n",
      ">sequence_16\n",
      "TRECIYYNANWELERTNQSGLERCEGEQDKRLHCAAAWKLENGKVTWLYRFCVEDNDECYDRQECVSTSKGSKIHYCCCEGNFCNERFTHLPEPG\n",
      ">sequence_17\n",
      "TRECIYYNANWELERTNQSGLERCEGEQDKRLHCYVAFKYENGKSTLLTKGCTTDNDECYDRQECVATSKGAKYNFCCCEGNFCNERFTHLPEPG\n",
      ">sequence_18\n",
      "TRECIYYNANWELERTNQSGLERCEGEQDKRLHCMVVAKYENGKTTLLYRGCTLDNDECYDRQECVFTSKGAKYLACCCEGNFCNERFTHLPEPG\n",
      ">sequence_19\n",
      "TRECIYYNANWELERTNQSGLERCEGEQDKRLHCGVLVELENGEWKILYRGCTTDIEECYDRQECVATSKGRKYQFCCCEGNFCNERFTHLPEPG\n",
      ">sequence_20\n",
      "TRECIYYNANWELERTNQSGLERCEGEQDKRLHCFRLVKLSNGQWELLYSGCTTDNEECYDRQECVATSKGREYRACCCEGNFCNERFTHLPEPG\n",
      ">sequence_21\n",
      "TRECIYYNANWELERTNQSGLERCEGEQDKRLHCYRAFKIENGKTTIITSGCVEENDECYDRQECVSTEKPREILFCCCEGNFCNERFTHLPEPG\n",
      ">sequence_22\n",
      "TRECIYYNANWELERTNQSGLERCEGEQDKRLHCYRAFKIENGKVTLVTSGCVEENDECYDRQECVSTEKPKPIHFCCCEGNFCNERFTHLPEPG\n",
      ">sequence_23\n",
      "TRECIYYNANWELERTNQSGLERCEGEQDKRLHCSVAYEIKNGKTTILYRGCTTDDDSCYDRQECVSTEKGAKVKYCCCEGNFCNERFTHLPEPG\n",
      ">sequence_24\n",
      "TRECIYYNANWELERTNQSGLERCEGEQDKRLHCVRAAKIENGKVTILYSGCTTENDDCYDRQECVATEKGAEVLSCCCEGNFCNERFTHLPEPG\n",
      ">sequence_25\n",
      "TRECIYYNANWELERTNQSGLERCEGEQDKRLHCLVAAKIENGKTTVLYRGCTLETDECYDRQECVATEKGAPIISCCCEGNFCNERFTHLPEPG\n",
      ">sequence_26\n",
      "TRECIYYNANWELERTNQSGLERCEGEQDKRLHCMVAYKIENGKTTILYSGCTLENDECYDRQECVSTEKGAKIKSCCCEGNFCNERFTHLPEPG\n",
      ">sequence_27\n",
      "TRECIYYNANWELERTNQSGLERCEGEQDKRLHCVVLAKLENGKKIILYSGCTTDLDECYDRQECVATEKGAKILSCCCEGNFCNERFTHLPEPG\n",
      ">sequence_28\n",
      "TRECIYYNANWELERTNQSGLERCEGEQDKRLHCFAAAKLENGKIIWLYRGCTTDLDECYDRQECVATAKGDEILFCCCEGNFCNERFTHLPEPG\n",
      ">sequence_29\n",
      "TRECIYYNANWELERTNQSGLERCEGEQDKRLHCFALYRIENGKTTWLYRGCTTDNDECYDRQECVSTEKGAEYHFCCCEGNFCNERFTHLPEPG\n",
      ">sequence_30\n",
      "TRECIYYNANWELERTNQSGLERCEGEQDKRLHCYRAYRIENGEDIVLTQGCTTDNDECYDRQECVSTEKGAEIHFCCCEGNFCNERFTHLPEPG\n",
      ">sequence_31\n",
      "TRECIYYNANWELERTNQSGLERCEGEQDKRLHCLVVAEYKDGKWTVLYRGCTEDIDECYDRQECVATEKGKEIQSCCCEGNFCNERFTHLPEPG\n",
      ">sequence_32\n",
      "TRECIYYNANWELERTNQSGLERCEGEQDKRLHCSVLARYENGVWTVLYRGCTEDNDECYDRQECVATEKGRTYQYCCCEGNFCNERFTHLPEPG\n",
      ">sequence_33\n",
      "TRECIYYNANWELERTNQSGLERCEGEQDKRLHCMVAYKIVNGVPQIVYSGCTTDNEECYDRQECVSTEKGSRIYSCCCEGNFCNERFTHLPEPG\n",
      ">sequence_34\n",
      "TRECIYYNANWELERTNQSGLERCEGEQDKRLHCRVAYKLINGKPVIVYSGCTEDNEECYDRQECVSTEKGRKIYSCCCEGNFCNERFTHLPEPG\n",
      ">sequence_35\n",
      "TRECIYYNANWELERTNQSGLERCEGEQDKRLHCIRSAKYEPGKVTILYSGCTLDNDECYDRQECVDTSKGATYGSCCCEGNFCNERFTHLPEPG\n",
      ">sequence_36\n",
      "TRECIYYNANWELERTNQSGLERCEGEQDKRLHCIRSAEYLPGKTKILYSGCTTDNDECYDRQECVSTDKGAKYSSCCCEGNFCNERFTHLPEPG\n",
      ">sequence_37\n",
      "TRECIYYNANWELERTNQSGLERCEGEQDKRLHCSVAYKIENGKKIILYRGCTTDNDECYDRQECVSREKGAEIHYCCCEGNFCNERFTHLPEPG\n",
      ">sequence_38\n",
      "TRECIYYNANWELERTNQSGLERCEGEQDKRLHCYRAYKIENGVTHILYSGCTTDNDECYDRQECVSREKGADIYYCCCEGNFCNERFTHLPEPG\n",
      ">sequence_39\n",
      "TRECIYYNANWELERTNQSGLERCEGEQDKRLHCVRAYKVENGVTTILYSGCATNLDECYDRQECVSTRPNSAIHTCCCEGNFCNERFTHLPEPG\n",
      ">sequence_40\n",
      "TRECIYYNANWELERTNQSGLERCEGEQDKRLHCIRAYKIENGKTTILYSGCATNLDECYDRQECVSTDPNSEIHTCCCEGNFCNERFTHLPEPG\n",
      ">sequence_41\n",
      "TRECIYYNANWELERTNQSGLERCEGEQDKRLHCIRAAEKVNGVWKVVYSGCTTDNDECYDRQECVATEKGSKIKVCCCEGNFCNERFTHLPEPG\n",
      ">sequence_42\n",
      "TRECIYYNANWELERTNQSGLERCEGEQDKRLHCILVAEEKNGKWEVVYSGCTTDLDECYDRQECVATEKGSKYKACCCEGNFCNERFTHLPEPG\n",
      ">sequence_43\n",
      "TRECIYYNANWELERTNQSGLERCEGEQDKRLHCYVLAKLENGVWTVLYRGCTGENDECYDRQECVFTEKNAKIQSCCCEGNFCNERFTHLPEPG\n",
      ">sequence_44\n",
      "TRECIYYNANWELERTNQSGLERCEGEQDKRLHCYVLAKTENGVTTILYSGCTLENEECYDRQECVFTEKNAKYQSCCCEGNFCNERFTHLPEPG\n",
      ">sequence_45\n",
      "TRECIYYNANWELERTNQSGLERCEGEQDKRLHCYVLYRYENGKKTILMSGCTTDIDECYDRQECVSTSKGSPIQYCCCEGNFCNERFTHLPEPG\n",
      ">sequence_46\n",
      "TRECIYYNANWELERTNQSGLERCEGEQDKRLHCFVAFKYENGKKTVLLSGCTTDIDECYDRQECVSTEKGSKIQYCCCEGNFCNERFTHLPEPG\n",
      ">sequence_47\n",
      "TRECIYYNANWELERTNQSGLERCEGEQDKRLHCGVAAKIENGKTTILYRGCIEDNDECYDRQECVATEKGAKILYCCCEGNFCNERFTHLPEPG\n",
      ">sequence_48\n",
      "TRECIYYNANWELERTNQSGLERCEGEQDKRLHCSVAYKIENGKTTILYRGCTTDNDECYDRQECVSTDKNAPIHYCCCEGNFCNERFTHLPEPG\n",
      ">sequence_49\n",
      "TRECIYYNANWELERTNQSGLERCEGEQDKRLHCYVSALIENGKVTVLYRGCTTDNLECYDRQECVSTRKGDKYQSCCCEGNFCNERFTHLPEPG\n",
      ">sequence_50\n",
      "TRECIYYNANWELERTNQSGLERCEGEQDKRLHCVVAYKEENGKTTILYTGCTYDTDECYDRQECVSTESGKTYKYCCCEGNFCNERFTHLPEPG\n",
      ">sequence_51\n",
      "TRECIYYNANWELERTNQSGLERCEGEQDKRLHCARAWKEENGVSTLLYSGCIGDNDECYDRQECVSTESGAKIKYCCCEGNFCNERFTHLPEPG\n",
      ">sequence_52\n",
      "TRECIYYNANWELERTNQSGLERCEGEQDKRLHCLRAAKLENGKTTLLYSGCTGETDECYDRQECVATRAGAKVLACCCEGNFCNERFTHLPEPG\n",
      ">sequence_53\n",
      "TRECIYYNANWELERTNQSGLERCEGEQDKRLHCLAAYKLENGKKTVLYRGCTGELDECYDRQECVSTEKGAKIYSCCCEGNFCNERFTHLPEPG\n",
      ">sequence_54\n",
      "TRECIYYNANWELERTNQSGLERCEGEQDKRLHCMAAAKLINGEWEILYRGCTGDNDECYDRQECVSTEKNPKIYSCCCEGNFCNERFTHLPEPG\n",
      ">sequence_55\n",
      "TRECIYYNANWELERTNQSGLERCEGEQDKRLHCFVLVKYENGKFTVLYSGCTGDNDECYDRQECVATEKGRTYQVCCCEGNFCNERFTHLPEPG\n",
      ">sequence_56\n",
      "TRECIYYNANWELERTNQSGLERCEGEQDKRLHCFRLAKIENGVTTVLYSGCTTDTDECYDRQECVFTEKGSKIGVCCCEGNFCNERFTHLPEPG\n",
      ">sequence_57\n",
      "TRECIYYNANWELERTNQSGLERCEGEQDKRLHCIRLVKYENGTWTVLYSGCAEDVDECYDRQECVFTEKGREYRSCCCEGNFCNERFTHLPEPG\n",
      ">sequence_58\n",
      "TRECIYYNANWELERTNQSGLERCEGEQDKRLHCLVLAKLENGTWTILYSGCAEDMDECYDRQECVFTEKGRKYRACCCEGNFCNERFTHLPEPG\n",
      ">sequence_59\n",
      "TRECIYYNANWELERTNQSGLERCEGEQDKRLHCYVAARIKNGETTILYRGCTGDNDDCYDRQECVATEKGAEILTCCCEGNFCNERFTHLPEPG\n",
      ">sequence_60\n",
      "TRECIYYNANWELERTNQSGLERCEGEQDKRLHCLRAAEIKDGKTTILYQGCTGDNLECYDRQECVSTEKGAKIKSCCCEGNFCNERFTHLPEPG\n",
      ">sequence_61\n",
      "TRECIYYNANWELERTNQSGLERCEGEQDKRLHCIRLSKLENGKVTILYSGCSEDIDECYDRQECVDTSKGSKYRFCCCEGNFCNERFTHLPEPG\n",
      ">sequence_62\n",
      "TRECIYYNANWELERTNQSGLERCEGEQDKRLHCVLLVRNKNGEWTRLYSGCTTDLDECYDRQECVSTSPGSEYQFCCCEGNFCNERFTHLPEPG\n",
      ">sequence_63\n",
      "TRECIYYNANWELERTNQSGLERCEGEQDKRLHCTRLVRYENGKWTDLYSGCTEDNDECYDRQECVSTEKGSKYQFCCCEGNFCNERFTHLPEPG\n",
      ">sequence_64\n",
      "TRECIYYNANWELERTNQSGLERCEGEQDKRLHCYRLVKYENGVWTDVYSGCTTDNDDCYDRQECVSTEKGSKYQYCCCEGNFCNERFTHLPEPG\n"
     ]
    }
   ],
   "source": [
    "with open('11_typeII_interface.fasta', 'r') as file:\n",
    "    content = file.read()\n",
    "print(content)"
   ],
   "metadata": {
    "collapsed": false,
    "ExecuteTime": {
     "end_time": "2023-10-18T18:23:25.254293Z",
     "start_time": "2023-10-18T18:23:25.234854Z"
    }
   },
   "id": "4dc52c69727b1a16"
  },
  {
   "cell_type": "code",
   "execution_count": 10,
   "outputs": [
    {
     "name": "stdout",
     "output_type": "stream",
     "text": [
      "RUNNING\n",
      "RUNNING\n",
      "RUNNING\n",
      "FINISHED\n"
     ]
    }
   ],
   "source": [
    "#submit and monitor job status\n",
    "response_alignment = requests.post(\"https://www.ebi.ac.uk/Tools/services/rest/clustalo/run\", data={\n",
    "    \"email\": \"example@example.com\",\n",
    "    \"iterations\": 0,\n",
    "    \"outfmt\": \"clustal_num\",\n",
    "    \"order\": \"aligned\",\n",
    "    \"sequence\": content,\n",
    "})\n",
    "\n",
    "job_id = response_alignment.text\n",
    "job_status = get_url(f\"https://www.ebi.ac.uk/Tools/services/rest/clustalo/status/{job_id}\")\n",
    "\n",
    "while status_check():\n",
    "    job_status = get_url(f\"https://www.ebi.ac.uk/Tools/services/rest/clustalo/status/{job_id}\")\n",
    "    time.sleep(3)"
   ],
   "metadata": {
    "collapsed": false,
    "ExecuteTime": {
     "end_time": "2023-10-18T18:26:03.436363Z",
     "start_time": "2023-10-18T18:25:46.985188Z"
    }
   },
   "id": "b23a5f1691996e27"
  },
  {
   "cell_type": "code",
   "execution_count": 11,
   "outputs": [
    {
     "name": "stdout",
     "output_type": "stream",
     "text": [
      "CLUSTAL O(1.2.4) multiple sequence alignment\n",
      "\n",
      "\n",
      "sequence_11      TRECIYYNANWELERTNQSGLERCEGEQDKRLHCFRAYRIVNGKKEILYSGCVENEDSCY\t60\n",
      "sequence_12      TRECIYYNANWELERTNQSGLERCEGEQDKRLHCFRAYRIENGKVHILYSGCVENEDECY\t60\n",
      "sequence_8       TRECIYYNANWELERTNQSGLERCEGEQDKRLHCSVLYKIENGELKVVYRGCTEDLDECY\t60\n",
      "sequence_29      TRECIYYNANWELERTNQSGLERCEGEQDKRLHCFALYRIENGKTTWLYRGCTTDNDECY\t60\n",
      "sequence_30      TRECIYYNANWELERTNQSGLERCEGEQDKRLHCYRAYRIENGEDIVLTQGCTTDNDECY\t60\n",
      "sequence_39      TRECIYYNANWELERTNQSGLERCEGEQDKRLHCVRAYKVENGVTTILYSGCATNLDECY\t60\n",
      "sequence_40      TRECIYYNANWELERTNQSGLERCEGEQDKRLHCIRAYKIENGKTTILYSGCATNLDECY\t60\n",
      "sequence_54      TRECIYYNANWELERTNQSGLERCEGEQDKRLHCMAAAKLINGEWEILYRGCTGDNDECY\t60\n",
      "sequence_52      TRECIYYNANWELERTNQSGLERCEGEQDKRLHCLRAAKLENGKTTLLYSGCTGETDECY\t60\n",
      "sequence_50      TRECIYYNANWELERTNQSGLERCEGEQDKRLHCVVAYKEENGKTTILYTGCTYDTDECY\t60\n",
      "sequence_43      TRECIYYNANWELERTNQSGLERCEGEQDKRLHCYVLAKLENGVWTVLYRGCTGENDECY\t60\n",
      "sequence_44      TRECIYYNANWELERTNQSGLERCEGEQDKRLHCYVLAKTENGVTTILYSGCTLENEECY\t60\n",
      "sequence_1       TRECIYYNANWELERTNQSGLERCEGEQDKRLHCYVLAKIINGKTEILYRGCVEYNDECY\t60\n",
      "sequence_23      TRECIYYNANWELERTNQSGLERCEGEQDKRLHCSVAYEIKNGKTTILYRGCTTDDDSCY\t60\n",
      "sequence_38      TRECIYYNANWELERTNQSGLERCEGEQDKRLHCYRAYKIENGVTHILYSGCTTDNDECY\t60\n",
      "sequence_37      TRECIYYNANWELERTNQSGLERCEGEQDKRLHCSVAYKIENGKKIILYRGCTTDNDECY\t60\n",
      "sequence_48      TRECIYYNANWELERTNQSGLERCEGEQDKRLHCSVAYKIENGKTTILYRGCTTDNDECY\t60\n",
      "sequence_60      TRECIYYNANWELERTNQSGLERCEGEQDKRLHCLRAAEIKDGKTTILYQGCTGDNLECY\t60\n",
      "sequence_24      TRECIYYNANWELERTNQSGLERCEGEQDKRLHCVRAAKIENGKVTILYSGCTTENDDCY\t60\n",
      "sequence_59      TRECIYYNANWELERTNQSGLERCEGEQDKRLHCYVAARIKNGETTILYRGCTGDNDDCY\t60\n",
      "sequence_25      TRECIYYNANWELERTNQSGLERCEGEQDKRLHCLVAAKIENGKTTVLYRGCTLETDECY\t60\n",
      "sequence_26      TRECIYYNANWELERTNQSGLERCEGEQDKRLHCMVAYKIENGKTTILYSGCTLENDECY\t60\n",
      "sequence_47      TRECIYYNANWELERTNQSGLERCEGEQDKRLHCGVAAKIENGKTTILYRGCIEDNDECY\t60\n",
      "sequence_41      TRECIYYNANWELERTNQSGLERCEGEQDKRLHCIRAAEKVNGVWKVVYSGCTTDNDECY\t60\n",
      "sequence_42      TRECIYYNANWELERTNQSGLERCEGEQDKRLHCILVAEEKNGKWEVVYSGCTTDLDECY\t60\n",
      "sequence_19      TRECIYYNANWELERTNQSGLERCEGEQDKRLHCGVLVELENGEWKILYRGCTTDIEECY\t60\n",
      "sequence_62      TRECIYYNANWELERTNQSGLERCEGEQDKRLHCVLLVRNKNGEWTRLYSGCTTDLDECY\t60\n",
      "sequence_57      TRECIYYNANWELERTNQSGLERCEGEQDKRLHCIRLVKYENGTWTVLYSGCAEDVDECY\t60\n",
      "sequence_58      TRECIYYNANWELERTNQSGLERCEGEQDKRLHCLVLAKLENGTWTILYSGCAEDMDECY\t60\n",
      "sequence_56      TRECIYYNANWELERTNQSGLERCEGEQDKRLHCFRLAKIENGVTTVLYSGCTTDTDECY\t60\n",
      "sequence_10      TRECIYYNANWELERTNQSGLERCEGEQDKRLHCGVLVEYSNGQWTILYSGCTTENDECY\t60\n",
      "sequence_20      TRECIYYNANWELERTNQSGLERCEGEQDKRLHCFRLVKLSNGQWELLYSGCTTDNEECY\t60\n",
      "sequence_13      TRECIYYNANWELERTNQSGLERCEGEQDKRLHCLRLVKLENGKWTLLYSGCTTDNEECY\t60\n",
      "sequence_63      TRECIYYNANWELERTNQSGLERCEGEQDKRLHCTRLVRYENGKWTDLYSGCTEDNDECY\t60\n",
      "sequence_64      TRECIYYNANWELERTNQSGLERCEGEQDKRLHCYRLVKYENGVWTDVYSGCTTDNDDCY\t60\n",
      "sequence_61      TRECIYYNANWELERTNQSGLERCEGEQDKRLHCIRLSKLENGKVTILYSGCSEDIDECY\t60\n",
      "sequence_35      TRECIYYNANWELERTNQSGLERCEGEQDKRLHCIRSAKYEPGKVTILYSGCTLDNDECY\t60\n",
      "sequence_36      TRECIYYNANWELERTNQSGLERCEGEQDKRLHCIRSAEYLPGKTKILYSGCTTDNDECY\t60\n",
      "sequence_15      TRECIYYNANWELERTNQSGLERCEGEQDKRLHCARAARLKNGKEEVLYSFCVEDNDECY\t60\n",
      "sequence_16      TRECIYYNANWELERTNQSGLERCEGEQDKRLHCAAAWKLENGKVTWLYRFCVEDNDECY\t60\n",
      "sequence_17      TRECIYYNANWELERTNQSGLERCEGEQDKRLHCYVAFKYENGKSTLLTKGCTTDNDECY\t60\n",
      "sequence_18      TRECIYYNANWELERTNQSGLERCEGEQDKRLHCMVVAKYENGKTTLLYRGCTLDNDECY\t60\n",
      "sequence_3       TRECIYYNANWELERTNQSGLERCEGEQDKRLHCMVLAKLENGEWKVLYRHCTGDNEECY\t60\n",
      "sequence_4       TRECIYYNANWELERTNQSGLERCEGEQDKRLHCSVLAKLENGKWEILYRHCTGDNEECY\t60\n",
      "sequence_45      TRECIYYNANWELERTNQSGLERCEGEQDKRLHCYVLYRYENGKKTILMSGCTTDIDECY\t60\n",
      "sequence_46      TRECIYYNANWELERTNQSGLERCEGEQDKRLHCFVAFKYENGKKTVLLSGCTTDIDECY\t60\n",
      "sequence_51      TRECIYYNANWELERTNQSGLERCEGEQDKRLHCARAWKEENGVSTLLYSGCIGDNDECY\t60\n",
      "sequence_31      TRECIYYNANWELERTNQSGLERCEGEQDKRLHCLVVAEYKDGKWTVLYRGCTEDIDECY\t60\n",
      "sequence_14      TRECIYYNANWELERTNQSGLERCEGEQDKRLHCAVAAKFENGKWTLLYSGCTGDNDECY\t60\n",
      "sequence_9       TRECIYYNANWELERTNQSGLERCEGEQDKRLHCGVLVKYENGEWTVLYSGCVGDNEECY\t60\n",
      "sequence_32      TRECIYYNANWELERTNQSGLERCEGEQDKRLHCSVLARYENGVWTVLYRGCTEDNDECY\t60\n",
      "sequence_55      TRECIYYNANWELERTNQSGLERCEGEQDKRLHCFVLVKYENGKFTVLYSGCTGDNDECY\t60\n",
      "sequence_2       TRECIYYNANWELERTNQSGLERCEGEQDKRLHCFRAYKIINGKPVVVYSGCVEYNDECY\t60\n",
      "sequence_21      TRECIYYNANWELERTNQSGLERCEGEQDKRLHCYRAFKIENGKTTIITSGCVEENDECY\t60\n",
      "sequence_22      TRECIYYNANWELERTNQSGLERCEGEQDKRLHCYRAFKIENGKVTLVTSGCVEENDECY\t60\n",
      "sequence_49      TRECIYYNANWELERTNQSGLERCEGEQDKRLHCYVSALIENGKVTVLYRGCTTDNLECY\t60\n",
      "sequence_33      TRECIYYNANWELERTNQSGLERCEGEQDKRLHCMVAYKIVNGVPQIVYSGCTTDNEECY\t60\n",
      "sequence_34      TRECIYYNANWELERTNQSGLERCEGEQDKRLHCRVAYKLINGKPVIVYSGCTEDNEECY\t60\n",
      "sequence_5       TRECIYYNANWELERTNQSGLERCEGEQDKRLHCYRAWKRENGKDTIVYSGCTEDNDECY\t60\n",
      "sequence_6       TRECIYYNANWELERTNQSGLERCEGEQDKRLHCYAAYKLENGKKTVILRGCTTDNDECY\t60\n",
      "sequence_53      TRECIYYNANWELERTNQSGLERCEGEQDKRLHCLAAYKLENGKKTVLYRGCTGELDECY\t60\n",
      "sequence_28      TRECIYYNANWELERTNQSGLERCEGEQDKRLHCFAAAKLENGKIIWLYRGCTTDLDECY\t60\n",
      "sequence_7       TRECIYYNANWELERTNQSGLERCEGEQDKRLHCTVLAKVENGKLIRVYSGCTEDLDECY\t60\n",
      "sequence_27      TRECIYYNANWELERTNQSGLERCEGEQDKRLHCVVLAKLENGKKIILYSGCTTDLDECY\t60\n",
      "                 **********************************        *    :   *     .**\n",
      "\n",
      "sequence_11      DRQECVDRRKNPEIHYCCCEGNFCNERFTHLPEPG\t95\n",
      "sequence_12      DRQECVDTRKNPEIHYCCCEGNFCNERFTHLPEPG\t95\n",
      "sequence_8       DRQECVGTDRNAPYIFCCCEGNFCNERFTHLPEPG\t95\n",
      "sequence_29      DRQECVSTEKGAEYHFCCCEGNFCNERFTHLPEPG\t95\n",
      "sequence_30      DRQECVSTEKGAEIHFCCCEGNFCNERFTHLPEPG\t95\n",
      "sequence_39      DRQECVSTRPNSAIHTCCCEGNFCNERFTHLPEPG\t95\n",
      "sequence_40      DRQECVSTDPNSEIHTCCCEGNFCNERFTHLPEPG\t95\n",
      "sequence_54      DRQECVSTEKNPKIYSCCCEGNFCNERFTHLPEPG\t95\n",
      "sequence_52      DRQECVATRAGAKVLACCCEGNFCNERFTHLPEPG\t95\n",
      "sequence_50      DRQECVSTESGKTYKYCCCEGNFCNERFTHLPEPG\t95\n",
      "sequence_43      DRQECVFTEKNAKIQSCCCEGNFCNERFTHLPEPG\t95\n",
      "sequence_44      DRQECVFTEKNAKYQSCCCEGNFCNERFTHLPEPG\t95\n",
      "sequence_1       DRQECVSTEKDSKYLFCCCEGNFCNERFTHLPEPG\t95\n",
      "sequence_23      DRQECVSTEKGAKVKYCCCEGNFCNERFTHLPEPG\t95\n",
      "sequence_38      DRQECVSREKGADIYYCCCEGNFCNERFTHLPEPG\t95\n",
      "sequence_37      DRQECVSREKGAEIHYCCCEGNFCNERFTHLPEPG\t95\n",
      "sequence_48      DRQECVSTDKNAPIHYCCCEGNFCNERFTHLPEPG\t95\n",
      "sequence_60      DRQECVSTEKGAKIKSCCCEGNFCNERFTHLPEPG\t95\n",
      "sequence_24      DRQECVATEKGAEVLSCCCEGNFCNERFTHLPEPG\t95\n",
      "sequence_59      DRQECVATEKGAEILTCCCEGNFCNERFTHLPEPG\t95\n",
      "sequence_25      DRQECVATEKGAPIISCCCEGNFCNERFTHLPEPG\t95\n",
      "sequence_26      DRQECVSTEKGAKIKSCCCEGNFCNERFTHLPEPG\t95\n",
      "sequence_47      DRQECVATEKGAKILYCCCEGNFCNERFTHLPEPG\t95\n",
      "sequence_41      DRQECVATEKGSKIKVCCCEGNFCNERFTHLPEPG\t95\n",
      "sequence_42      DRQECVATEKGSKYKACCCEGNFCNERFTHLPEPG\t95\n",
      "sequence_19      DRQECVATSKGRKYQFCCCEGNFCNERFTHLPEPG\t95\n",
      "sequence_62      DRQECVSTSPGSEYQFCCCEGNFCNERFTHLPEPG\t95\n",
      "sequence_57      DRQECVFTEKGREYRSCCCEGNFCNERFTHLPEPG\t95\n",
      "sequence_58      DRQECVFTEKGRKYRACCCEGNFCNERFTHLPEPG\t95\n",
      "sequence_56      DRQECVFTEKGSKIGVCCCEGNFCNERFTHLPEPG\t95\n",
      "sequence_10      DRQECVSTEKGKKYSYCCCEGNFCNERFTHLPEPG\t95\n",
      "sequence_20      DRQECVATSKGREYRACCCEGNFCNERFTHLPEPG\t95\n",
      "sequence_13      DRQECVFTEKGSKYLSCCCEGNFCNERFTHLPEPG\t95\n",
      "sequence_63      DRQECVSTEKGSKYQFCCCEGNFCNERFTHLPEPG\t95\n",
      "sequence_64      DRQECVSTEKGSKYQYCCCEGNFCNERFTHLPEPG\t95\n",
      "sequence_61      DRQECVDTSKGSKYRFCCCEGNFCNERFTHLPEPG\t95\n",
      "sequence_35      DRQECVDTSKGATYGSCCCEGNFCNERFTHLPEPG\t95\n",
      "sequence_36      DRQECVSTDKGAKYSSCCCEGNFCNERFTHLPEPG\t95\n",
      "sequence_15      DRQECVSTEKGSEILYCCCEGNFCNERFTHLPEPG\t95\n",
      "sequence_16      DRQECVSTSKGSKIHYCCCEGNFCNERFTHLPEPG\t95\n",
      "sequence_17      DRQECVATSKGAKYNFCCCEGNFCNERFTHLPEPG\t95\n",
      "sequence_18      DRQECVFTSKGAKYLACCCEGNFCNERFTHLPEPG\t95\n",
      "sequence_3       DRQECVFTESGSPYKYCCCEGNFCNERFTHLPEPG\t95\n",
      "sequence_4       DRQECVSRSSGSPYQYCCCEGNFCNERFTHLPEPG\t95\n",
      "sequence_45      DRQECVSTSKGSPIQYCCCEGNFCNERFTHLPEPG\t95\n",
      "sequence_46      DRQECVSTEKGSKIQYCCCEGNFCNERFTHLPEPG\t95\n",
      "sequence_51      DRQECVSTESGAKIKYCCCEGNFCNERFTHLPEPG\t95\n",
      "sequence_31      DRQECVATEKGKEIQSCCCEGNFCNERFTHLPEPG\t95\n",
      "sequence_14      DRQECVATEKGSKYQYCCCEGNFCNERFTHLPEPG\t95\n",
      "sequence_9       DRQECVATESGKEYQYCCCEGNFCNERFTHLPEPG\t95\n",
      "sequence_32      DRQECVATEKGRTYQYCCCEGNFCNERFTHLPEPG\t95\n",
      "sequence_55      DRQECVATEKGRTYQVCCCEGNFCNERFTHLPEPG\t95\n",
      "sequence_2       DRQECVSTEKNARIKFCCCEGNFCNERFTHLPEPG\t95\n",
      "sequence_21      DRQECVSTEKPREILFCCCEGNFCNERFTHLPEPG\t95\n",
      "sequence_22      DRQECVSTEKPKPIHFCCCEGNFCNERFTHLPEPG\t95\n",
      "sequence_49      DRQECVSTRKGDKYQSCCCEGNFCNERFTHLPEPG\t95\n",
      "sequence_33      DRQECVSTEKGSRIYSCCCEGNFCNERFTHLPEPG\t95\n",
      "sequence_34      DRQECVSTEKGRKIYSCCCEGNFCNERFTHLPEPG\t95\n",
      "sequence_5       DRQECVSTQKGAKILSCCCEGNFCNERFTHLPEPG\t95\n",
      "sequence_6       DRQECVSTEKGAKILSCCCEGNFCNERFTHLPEPG\t95\n",
      "sequence_53      DRQECVSTEKGAKIYSCCCEGNFCNERFTHLPEPG\t95\n",
      "sequence_28      DRQECVATAKGDEILFCCCEGNFCNERFTHLPEPG\t95\n",
      "sequence_7       DRQECVATEKGAKYLSCCCEGNFCNERFTHLPEPG\t95\n",
      "sequence_27      DRQECVATEKGAKILSCCCEGNFCNERFTHLPEPG\t95\n",
      "                 ******          *******************\n"
     ]
    }
   ],
   "source": [
    "#show alignment\n",
    "show_alignment()"
   ],
   "metadata": {
    "collapsed": false,
    "ExecuteTime": {
     "end_time": "2023-10-18T18:26:19.017015Z",
     "start_time": "2023-10-18T18:26:18.502896Z"
    }
   },
   "id": "cd911ac9d052915e"
  },
  {
   "cell_type": "code",
   "execution_count": 12,
   "outputs": [],
   "source": [
    "#create alignment file\n",
    "alignment = (get_url(f\"https://www.ebi.ac.uk/Tools/services/rest/clustalo/result/{job_id}/aln-clustal_num\")).text\n",
    "\n",
    "with open(f'11_typeII_interface_aligned_MSA.aln', 'w+') as file:\n",
    "    file.writelines(alignment)"
   ],
   "metadata": {
    "collapsed": false,
    "ExecuteTime": {
     "end_time": "2023-10-18T18:43:25.234660Z",
     "start_time": "2023-10-18T18:43:24.080974Z"
    }
   },
   "id": "2a1ea5c308b6221"
  },
  {
   "cell_type": "code",
   "execution_count": 16,
   "outputs": [],
   "source": [
    "#turn MSA file into fasta file using BioPython\n",
    "input_clustal_file = f\"11_typeII_interface_aligned_MSA.aln\"\n",
    "output_fasta_file = f\"11_typeII_interface_aligned_fasta.fasta\"\n",
    "\n",
    "convert_clustal_to_fasta(input_clustal_file, output_fasta_file)"
   ],
   "metadata": {
    "collapsed": false,
    "ExecuteTime": {
     "end_time": "2023-10-18T18:46:27.302614Z",
     "start_time": "2023-10-18T18:46:27.016999Z"
    }
   },
   "id": "b6456ba8da984e96"
  },
  {
   "cell_type": "code",
   "execution_count": 18,
   "outputs": [],
   "source": [
    "#Generate multiple sequence alignment image\n",
    "msa_file = open(f\"11_typeII_interface_aligned_fasta.fasta\")\n",
    "mv = MsaViz(msa_file, wrap_length=60, show_count=True)\n",
    "mv.savefig(f\"11_typeII_interface.png\")"
   ],
   "metadata": {
    "collapsed": false,
    "ExecuteTime": {
     "end_time": "2023-10-18T18:48:03.860986Z",
     "start_time": "2023-10-18T18:47:47.784358Z"
    }
   },
   "id": "431a80f6f2f87fcf"
  },
  {
   "cell_type": "code",
   "execution_count": 83,
   "outputs": [],
   "source": [
    "from weblogo import read_seq_data, LogoData, LogoOptions, LogoFormat, pdf_formatter, std_color_schemes\n",
    "\n",
    "# Load sequences from FASTA file\n",
    "with open(\"11_typeII_interface.fasta\", 'r') as f:\n",
    "    seqs = read_seq_data(f)\n",
    "\n",
    "# Generate Logo\n",
    "data = LogoData.from_seqs(seqs)\n",
    "options = LogoOptions()\n",
    "options.title = \"My Sequence Logo\"\n",
    "options.color_scheme = std_color_schemes['chemistry']\n",
    "format_ = LogoFormat(data, options)\n",
    "\n",
    "# Save the logo to a file\n",
    "with open(\"sequence_logo_chemistry_v2.pdf\", \"wb\") as f:\n",
    "    f.write(pdf_formatter(data, format_))"
   ],
   "metadata": {
    "collapsed": false,
    "ExecuteTime": {
     "end_time": "2023-10-20T19:22:37.375214Z",
     "start_time": "2023-10-20T19:22:35.337920Z"
    }
   },
   "id": "becef94caa6746b4"
  },
  {
   "cell_type": "code",
   "execution_count": 103,
   "outputs": [],
   "source": [
    "from PIL import Image, ImageDraw, ImageFont\n",
    "\n",
    "# Load the sequence logo\n",
    "img = Image.open(\"sequence_logo_chemistry_v2.png\")\n",
    "\n",
    "# Get a drawing context\n",
    "draw = ImageDraw.Draw(img)\n",
    "\n",
    "# Define the wild type sequence\n",
    "wild_type_seq = \"ATGCGTAGCTAGCTAG\"\n",
    "\n",
    "# Define font and position\n",
    "font = ImageFont.load_default()\n",
    "# text_width, text_height = draw.textsize(wild_type_seq, font=font)  # Corrected here\n",
    "# text_position = (img.width/2 - text_width/2, img.height - text_height - 10)\n",
    "\n",
    "# Draw the wild type sequence onto the image\n",
    "draw.text((0,0), wild_type_seq, font=font, fill=\"black\")\n",
    "\n",
    "# Save the modified image\n",
    "img.save(\"sequence_logo_with_wildtype.png\")\n"
   ],
   "metadata": {
    "collapsed": false,
    "ExecuteTime": {
     "end_time": "2023-10-20T19:47:51.142870Z",
     "start_time": "2023-10-20T19:47:51.104565Z"
    }
   },
   "id": "71f7173bd93019b9"
  },
  {
   "cell_type": "code",
   "execution_count": null,
   "outputs": [],
   "source": [],
   "metadata": {
    "collapsed": false
   },
   "id": "7169d3c428c377f5"
  }
 ],
 "metadata": {
  "kernelspec": {
   "display_name": "Python 3",
   "language": "python",
   "name": "python3"
  },
  "language_info": {
   "codemirror_mode": {
    "name": "ipython",
    "version": 2
   },
   "file_extension": ".py",
   "mimetype": "text/x-python",
   "name": "python",
   "nbconvert_exporter": "python",
   "pygments_lexer": "ipython2",
   "version": "2.7.6"
  }
 },
 "nbformat": 4,
 "nbformat_minor": 5
}
