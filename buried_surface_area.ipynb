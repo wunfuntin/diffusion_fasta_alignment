{
 "cells": [
  {
   "cell_type": "code",
   "execution_count": 1,
   "id": "initial_id",
   "metadata": {
    "collapsed": true,
    "ExecuteTime": {
     "end_time": "2023-10-24T21:05:46.239506Z",
     "start_time": "2023-10-24T21:05:46.076486Z"
    }
   },
   "outputs": [],
   "source": [
    "import requests"
   ]
  },
  {
   "cell_type": "code",
   "execution_count": 2,
   "outputs": [
    {
     "data": {
      "text/plain": "{'3hh2': {'assembly_id': '1',\n  'pisa_version': '2.0',\n  'assembly': {'id': '1',\n   'size': '9',\n   'interface_count': 6,\n   'score': '',\n   'macromolecular_size': '4',\n   'dissociation_energy': 43.45,\n   'accessible_surface_area': 39072.28,\n   'buried_surface_area': 12644.47,\n   'entropy': 15.04,\n   'dissociation_area': 2821.29,\n   'solvation_energy_gain': -84.69,\n   'number_of_uc': '0',\n   'number_of_dissociated_elements': '2',\n   'symmetry_number': '2',\n   'formula': 'A(2)B(2)a(3)b(2)',\n   'composition': 'ABCD[PO4](3)[CIT](2)',\n   'R350': ''}}}"
     },
     "execution_count": 2,
     "metadata": {},
     "output_type": "execute_result"
    }
   ],
   "source": [
    "pdb = 'design_233.pdb'\n",
    "response = requests.get(f\"https://www.ebi.ac.uk/pdbe/api/pisa/assembly/{pdb}/1\")\n",
    "response.json()"
   ],
   "metadata": {
    "collapsed": false,
    "ExecuteTime": {
     "end_time": "2023-10-24T21:05:48.900090Z",
     "start_time": "2023-10-24T21:05:48.408532Z"
    }
   },
   "id": "254f256c629cd1cd"
  },
  {
   "cell_type": "code",
   "execution_count": 7,
   "outputs": [
    {
     "ename": "ModuleNotFoundError",
     "evalue": "No module named 'pymol'",
     "output_type": "error",
     "traceback": [
      "\u001B[0;31m---------------------------------------------------------------------------\u001B[0m",
      "\u001B[0;31mModuleNotFoundError\u001B[0m                       Traceback (most recent call last)",
      "Cell \u001B[0;32mIn[7], line 1\u001B[0m\n\u001B[0;32m----> 1\u001B[0m \u001B[38;5;28;01mfrom\u001B[39;00m \u001B[38;5;21;01mpymol\u001B[39;00m \u001B[38;5;28;01mimport\u001B[39;00m cmd\n\u001B[1;32m      3\u001B[0m \u001B[38;5;28;01mdef\u001B[39;00m \u001B[38;5;21mcalculate_sasa\u001B[39m(pdb_path, chain_id):\n\u001B[1;32m      4\u001B[0m     cmd\u001B[38;5;241m.\u001B[39mload(pdb_path, \u001B[38;5;124m'\u001B[39m\u001B[38;5;124mmy_protein\u001B[39m\u001B[38;5;124m'\u001B[39m)\n",
      "\u001B[0;31mModuleNotFoundError\u001B[0m: No module named 'pymol'"
     ]
    }
   ],
   "source": [
    "from pymol import cmd\n",
    "\n",
    "def calculate_sasa(pdb_path, chain_id):\n",
    "    cmd.load(pdb_path, 'my_protein')\n",
    "    cmd.show('surface', f'my_protein and chain {chain_id}')\n",
    "    \n",
    "    sasa = cmd.get_area(f'my_protein and chain {chain_id}')\n",
    "    print(f\"SASA for chain {chain_id}: {sasa:.2f} Å^2\")\n",
    "    \n",
    "    cmd.quit()\n",
    "\n",
    "# Modify the path to your PDB file and desired chain ID below\n",
    "calculate_sasa('design_233.pdb', 'A')"
   ],
   "metadata": {
    "collapsed": false,
    "ExecuteTime": {
     "end_time": "2023-10-24T20:53:17.516153Z",
     "start_time": "2023-10-24T20:53:17.498243Z"
    }
   },
   "id": "e24ccb2d72bbf316"
  },
  {
   "cell_type": "code",
   "execution_count": 6,
   "outputs": [],
   "source": [],
   "metadata": {
    "collapsed": false,
    "ExecuteTime": {
     "end_time": "2023-10-24T20:52:56.174226Z",
     "start_time": "2023-10-24T20:52:56.164643Z"
    }
   },
   "id": "1fd7822845864f8f"
  },
  {
   "cell_type": "code",
   "execution_count": 3,
   "outputs": [
    {
     "ename": "ModuleNotFoundError",
     "evalue": "No module named 'Bio'",
     "output_type": "error",
     "traceback": [
      "\u001B[0;31m---------------------------------------------------------------------------\u001B[0m",
      "\u001B[0;31mModuleNotFoundError\u001B[0m                       Traceback (most recent call last)",
      "Cell \u001B[0;32mIn[3], line 2\u001B[0m\n\u001B[1;32m      1\u001B[0m \u001B[38;5;28;01mimport\u001B[39;00m \u001B[38;5;21;01msys\u001B[39;00m\n\u001B[0;32m----> 2\u001B[0m \u001B[38;5;28;01mfrom\u001B[39;00m \u001B[38;5;21;01mBio\u001B[39;00m \u001B[38;5;28;01mimport\u001B[39;00m SeqIO\n\u001B[1;32m      4\u001B[0m PDBFile \u001B[38;5;241m=\u001B[39m \u001B[38;5;124m'\u001B[39m\u001B[38;5;124mdesign_233.pdb\u001B[39m\u001B[38;5;124m'\u001B[39m\n\u001B[1;32m      5\u001B[0m \u001B[38;5;28;01mwith\u001B[39;00m \u001B[38;5;28mopen\u001B[39m(PDBFile, \u001B[38;5;124m'\u001B[39m\u001B[38;5;124mr\u001B[39m\u001B[38;5;124m'\u001B[39m) \u001B[38;5;28;01mas\u001B[39;00m pdb_file:\n",
      "\u001B[0;31mModuleNotFoundError\u001B[0m: No module named 'Bio'"
     ]
    }
   ],
   "source": [
    "import sys\n",
    "from Bio import SeqIO\n",
    "\n",
    "PDBFile = 'design_233.pdb'\n",
    "with open(PDBFile, 'r') as pdb_file:\n",
    "    for record in SeqIO.parse(pdb_file, 'pdb-atom'):\n",
    "        print('>' + record.id)\n",
    "        print(record.seq)"
   ],
   "metadata": {
    "collapsed": false,
    "ExecuteTime": {
     "end_time": "2023-10-25T17:18:20.906520Z",
     "start_time": "2023-10-25T17:18:20.875271Z"
    }
   },
   "id": "3702f6c7098c487e"
  },
  {
   "cell_type": "code",
   "execution_count": null,
   "outputs": [],
   "source": [],
   "metadata": {
    "collapsed": false
   },
   "id": "424898a531e383f2"
  }
 ],
 "metadata": {
  "kernelspec": {
   "display_name": "Python 3",
   "language": "python",
   "name": "python3"
  },
  "language_info": {
   "codemirror_mode": {
    "name": "ipython",
    "version": 2
   },
   "file_extension": ".py",
   "mimetype": "text/x-python",
   "name": "python",
   "nbconvert_exporter": "python",
   "pygments_lexer": "ipython2",
   "version": "2.7.6"
  }
 },
 "nbformat": 4,
 "nbformat_minor": 5
}
